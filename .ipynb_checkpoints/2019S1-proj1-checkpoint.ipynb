{
 "cells": [
  {
   "cell_type": "markdown",
   "metadata": {},
   "source": [
    "# The University of Melbourne, School of Computing and Information Systems\n",
    "# COMP30027 Machine Learning, 2019 Semester 1\n",
    "-----\n",
    "## Project 1: Gaining Information about Naive Bayes\n",
    "-----\n",
    "###### Student Name(s):\n",
    "###### Python version:\n",
    "###### Submission deadline: 1pm, Fri 5 Apr 2019"
   ]
  },
  {
   "cell_type": "markdown",
   "metadata": {},
   "source": [
    "This iPython notebook is a template which you may use for your Project 1 submission. (You are not required to use it; in particular, there is no need to use iPython if you do not like it.)\n",
    "\n",
    "Marking will be applied on the five functions that are defined in this notebook, and to your responses to the questions at the end of this notebook.\n",
    "\n",
    "You may change the prototypes of these functions, and you may write other functions, according to your requirements. We would appreciate it if the required functions were prominent/easy to find. "
   ]
  },
  {
   "cell_type": "code",
   "execution_count": 1,
   "metadata": {},
   "outputs": [],
   "source": [
    "from collections import defaultdict\n",
    "\n",
    "import pandas as pd\n",
    "import glob\n",
    "import os\n",
    "import random\n",
    "import math"
   ]
  },
  {
   "cell_type": "code",
   "execution_count": 2,
   "metadata": {},
   "outputs": [],
   "source": [
    "def class_maintained_shuffle(data, classes):\n",
    "    combined = list(zip(data, classes))\n",
    "    random.shuffle(combined)\n",
    "    data[:], classes[:] = zip(*combined)\n",
    "    return data, classes"
   ]
  },
  {
   "cell_type": "code",
   "execution_count": 3,
   "metadata": {},
   "outputs": [],
   "source": [
    "class NBayes:\n",
    "    def __init__(self):\n",
    "        self.priors = defaultdict(int)\n",
    "        self.posteriors = defaultdict(lambda: defaultdict(lambda: defaultdict(int)))\n",
    "        self.V = defaultdict(set)\n",
    "        self.total_classes = None\n",
    "        self.k = 1\n",
    "\n",
    "    def fit(self, x_train, y_labels, k=1):\n",
    "        assert len(x_train) == len(y_labels)\n",
    "        self.total_classes = len(y_labels)\n",
    "        self.k = k\n",
    "        for i in range(len(x_train)):\n",
    "            if i % 100 == 0:\n",
    "                print(\"Training at [\" + str(i/(len(x_train))) + \"%]\")\n",
    "            self.priors[y_labels[i]] += 1\n",
    "            for j in range(len(x_train[i])):\n",
    "                if x_train[i][j] is not None:\n",
    "                    self.posteriors[j][y_labels[i]][x_train[i][j]] += 1\n",
    "                    self.V[j].add(x_train[i][j])\n",
    "\n",
    "        print(\"Training done\")\n",
    "      \n",
    "    def predict(self, x_test):\n",
    "        best_class = None\n",
    "        best_score = -1\n",
    "        for classification in self.priors.keys():\n",
    "            curr_prob = 1\n",
    "            for i in range(len(x_test)):\n",
    "                if x_test[i] is not None:\n",
    "                    freq_i_class = self.posteriors[i][classification][x_test[i]]\n",
    "                    freq_class = self.priors[classification]\n",
    "                    num_attributes = len(self.V[i])\n",
    "                    curr_prob = curr_prob*((self.k + freq_i_class)/(num_attributes + freq_class))\n",
    "\n",
    "            score = (self.priors[classification]/self.total_classes)*curr_prob\n",
    "            if score > best_score:\n",
    "                best_score = score\n",
    "                best_class = classification\n",
    "        return best_class\n"
   ]
  },
  {
   "cell_type": "code",
   "execution_count": 4,
   "metadata": {},
   "outputs": [],
   "source": [
    "# This function should open a data file in csv, and transform it into a usable format \n",
    "def process(filename, class_col=-1, header=None):\n",
    "    df = pd.read_csv(filename, header=header)\n",
    "    df = df.replace({'?': None})\n",
    "    class_col_name = df.columns[class_col]\n",
    "    classes = df[class_col_name]\n",
    "    df = df.drop(class_col_name, axis =1)\n",
    "    return df.as_matrix(), list(classes)"
   ]
  },
  {
   "cell_type": "code",
   "execution_count": 5,
   "metadata": {},
   "outputs": [],
   "source": [
    "# This function should build a supervised NB model\n",
    "def train(x, y):\n",
    "    nb = NBayes()\n",
    "    nb.fit(x, y)\n",
    "    return nb"
   ]
  },
  {
   "cell_type": "code",
   "execution_count": 6,
   "metadata": {},
   "outputs": [],
   "source": [
    "# This function should predict the class for an instance or a set of instances, based on a trained model \n",
    "def predict(nb, x_test):\n",
    "    return nb.predict(x_test)"
   ]
  },
  {
   "cell_type": "code",
   "execution_count": 7,
   "metadata": {},
   "outputs": [],
   "source": [
    "# This function should evaluate a set of predictions, in a supervised context \n",
    "def evaluate(nb, x_test_list, y_test_list):\n",
    "    class_tp = defaultdict(int)\n",
    "    class_fp = defaultdict(int)\n",
    "    class_fn = defaultdict(int)\n",
    "\n",
    "    classes = nb.priors.keys()\n",
    "    total_count = 0\n",
    "    correct_count = 0\n",
    "    for i in range(len(x_test_list)):\n",
    "        predicted = nb.predict(x_test_list[i])\n",
    "        label = y_test_list[i]\n",
    "        if predicted == label:\n",
    "            correct_count += 1\n",
    "            class_tp[label] += 1\n",
    "        else:\n",
    "            class_fn[label] += 1\n",
    "            class_fp[predicted] += 1\n",
    "        total_count += 1\n",
    "\n",
    "    recall_micro_upper = 0\n",
    "    recall_micro_lower = 0\n",
    "    precision_micro_lower = 0\n",
    "    precision_micro_upper = 0\n",
    "    precision_micro = 0\n",
    "    recall_micro = 0\n",
    "    for class_key in classes:\n",
    "        recall_micro_upper += class_tp[class_key]\n",
    "        recall_micro_lower += class_tp[class_key] + class_fp[class_key]\n",
    "        precision_micro_upper += class_tp[class_key]\n",
    "        precision_micro_lower += class_tp[class_key] + class_fn[class_key]\n",
    "        print(\"Class =\", class_key, \"TP =\", class_tp[class_key], \"FP =\", class_fp[class_key], \"FN =\", class_fn[class_key])\n",
    "    if precision_micro_lower != 0:\n",
    "        precision_micro = precision_micro_upper/precision_lower\n",
    "    if recall_micro_lower != 0:\n",
    "        recall_micro = recall_micro_upper/recall_micro_lower\n",
    "    print(\"Recall (micro-averaged) =\", recall)\n",
    "    print(\"Precision (micro-averaged)=\", precision)\n",
    "\n",
    "    f1_micro = 0\n",
    "    if (precision_micro+recall_micro) != 0:\n",
    "        f1 = 2*precision_micro*recall_micro/(precision_micro+recall_micro)\n",
    "    print(\"F1 (micro-averaged)=\", f1_micro)\n",
    "\n",
    "    precision = 0\n",
    "    recall = 0\n",
    "    for class_key in classes:\n",
    "        if (class_tp[class_key] + class_fp[class_key]) != 0:\n",
    "            precision += (class_tp[class_key]/(class_tp[class_key] + class_fp[class_key]))\n",
    "        if (class_tp[class_key] + class_fn[class_key]) != 0:\n",
    "            recall += (class_tp[class_key]/(class_tp[class_key] + class_fn[class_key]))\n",
    "    precision = precision/len(classes)\n",
    "    recall = recall/len(classes)\n",
    "    print(\"Precision (macro-averaged) =\", precision)\n",
    "    print(\"Recall (macro-averaged) =\", recall)\n",
    "\n",
    "    f1 = 0\n",
    "    if (precision+recall) != 0:\n",
    "        f1 = 2*precision*recall/(precision+recall)\n",
    "\n",
    "    print(\"F1 (macro-averaged) =\", f1)\n",
    "    print(\"Accuracy =\", correct_count/total_count)\n",
    "    return correct_count/total_count\n"
   ]
  },
  {
   "cell_type": "code",
   "execution_count": 11,
   "metadata": {},
   "outputs": [],
   "source": [
    "# This function should calculate the Information Gain of an attribute or a set of attribute, with respect to the class\n",
    "def info_gain(data, classes, attr_col):\n",
    "    assert (len(data) == len(classes))\n",
    "    attributes = defaultdict(lambda: defaultdict(int))\n",
    "    class_distr = defaultdict(int)\n",
    "    attribute_distr = defaultdict(int)\n",
    "    \n",
    "    for i in range(len(data)):\n",
    "        attribute = data[i][attr_col]\n",
    "        attributes[attribute][classes[i]] += 1\n",
    "        attribute_distr[attribute] += 1\n",
    "        class_distr[classes[i]] += 1\n",
    "    \n",
    "    class_entropy = 0\n",
    "    for key in class_distr.keys():\n",
    "        prob_class = class_distr[key]/len(classes)\n",
    "        class_entropy += prob_class*math.log2(prob_class)\n",
    "    class_entropy = class_entropy*-1\n",
    "    \n",
    "    mean_info = 0\n",
    "    for key in attributes.keys():\n",
    "        prob_key = attribute_distr[key]/len(data)\n",
    "        entropy_key = 0\n",
    "        class_map = attributes[key]\n",
    "        for class_key in class_map.keys():\n",
    "            prob_class_key = class_map[class_key]/attribute_distr[key]\n",
    "            entropy_key += prob_class_key*math.log2(prob_class_key)\n",
    "        entropy_key = entropy_key*-1\n",
    "        mean_info += prob_key*entropy_key\n",
    "    \n",
    "    gain = class_entropy - mean_info\n",
    "    return gain"
   ]
  },
  {
   "cell_type": "code",
   "execution_count": 8,
   "metadata": {},
   "outputs": [],
   "source": [
    "def holdout(data, classes):\n",
    "    up_lim = int(len(data) * 0.8)\n",
    "\n",
    "    x_train = data[:up_lim]\n",
    "    y_train = classes[:up_lim]\n",
    "\n",
    "    x_test = data[up_lim:]\n",
    "    y_test = classes[up_lim:]\n",
    "\n",
    "    model = NBayes()\n",
    "    model.fit(x_train, y_train)\n",
    "    evaluate(model, x_test, y_test)"
   ]
  },
  {
   "cell_type": "code",
   "execution_count": 9,
   "metadata": {},
   "outputs": [],
   "source": [
    "def chunks(data, num):\n",
    "    avg = len(data) / float(num)\n",
    "    out = []\n",
    "    last = 0.0\n",
    "\n",
    "    while last < len(data):\n",
    "        out.append(data[int(last):int(last + avg)])\n",
    "        last += avg\n",
    "\n",
    "    return out"
   ]
  },
  {
   "cell_type": "code",
   "execution_count": 10,
   "metadata": {},
   "outputs": [],
   "source": [
    "def cross_validate(data, classes, m):\n",
    "    data_chunks = chunks(list(zip(data, classes)))\n",
    "    data[:], classes[:] = zip(*data_chunks)\n",
    "    for i in range(m):\n",
    "        pass"
   ]
  },
  {
   "cell_type": "code",
   "execution_count": 15,
   "metadata": {},
   "outputs": [
    {
     "name": "stdout",
     "output_type": "stream",
     "text": [
      "['sunny'] y\n",
      "['sunny'] y\n",
      "['sunny'] n\n",
      "['sunny'] n\n",
      "['sunny'] n\n",
      "['ocast'] y\n",
      "['ocast'] y\n",
      "['ocast'] y\n",
      "['ocast'] y\n",
      "['rainy'] y\n",
      "['rainy'] y\n",
      "['rainy'] y\n",
      "['rainy'] n\n",
      "['rainy'] n\n",
      "Training at [0.0%]\n",
      "Training done\n",
      "0.24674981977443933\n"
     ]
    }
   ],
   "source": [
    "data = [\n",
    "    ['sunny'], \n",
    "    ['sunny'], \n",
    "    ['sunny'],\n",
    "    ['sunny'],\n",
    "    ['sunny'],\n",
    "    ['ocast'],\n",
    "    ['ocast'],\n",
    "    ['ocast'],\n",
    "    ['ocast'],\n",
    "    ['rainy'],\n",
    "    ['rainy'],\n",
    "    ['rainy'],\n",
    "    ['rainy'],\n",
    "    ['rainy']\n",
    "]\n",
    "\n",
    "classes = [\n",
    "    'y',\n",
    "    'y',\n",
    "    'n',\n",
    "    'n',\n",
    "    'n',\n",
    "    'y',\n",
    "    'y',\n",
    "    'y',\n",
    "    'y',\n",
    "    'y',\n",
    "    'y',\n",
    "    'y',\n",
    "    'n',\n",
    "    'n'\n",
    "]\n",
    "\n",
    "for i in range(len(data)):\n",
    "    print(data[i], classes[i])\n",
    "    \n",
    "nb = train(data, classes)\n",
    "\n",
    "print(info_gain(data, classes, 0))\n",
    "\n"
   ]
  },
  {
   "cell_type": "markdown",
   "metadata": {},
   "source": [
    "Questions (you may respond in a cell or cells below):\n",
    "\n",
    "1. The Naive Bayes classifiers can be seen to vary, in terms of their effectiveness on the given datasets (e.g. in terms of Accuracy). Consider the Information Gain of each attribute, relative to the class distribution — does this help to explain the classifiers’ behaviour? Identify any results that are particularly surprising, and explain why they occur.\n",
    "2. The Information Gain can be seen as a kind of correlation coefficient between a pair of attributes: when the gain is low, the attribute values are uncorrelated; when the gain is high, the attribute values are correlated. In supervised ML, we typically calculate the Infomation Gain between a single attribute and the class, but it can be calculated for any pair of attributes. Using the pair-wise IG as a proxy for attribute interdependence, in which cases are our NB assumptions violated? Describe any evidence (or indeed, lack of evidence) that this is has some effect on the effectiveness of the NB classifier.\n",
    "3. Since we have gone to all of the effort of calculating Infomation Gain, we might as well use that as a criterion for building a “Decision Stump” (1-R classifier). How does the effectiveness of this classifier compare to Naive Bayes? Identify one or more cases where the effectiveness is notably different, and explain why.\n",
    "4. Evaluating the model on the same data that we use to train the model is considered to be a major mistake in Machine Learning. Implement a hold–out or cross–validation evaluation strategy. How does your estimate of effectiveness change, compared to testing on the training data? Explain why. (The result might surprise you!)\n",
    "5. Implement one of the advanced smoothing regimes (add-k, Good-Turing). Does changing the smoothing regime (or indeed, not smoothing at all) affect the effectiveness of the Naive Bayes classifier? Explain why, or why not.\n",
    "6. Naive Bayes is said to elegantly handle missing attribute values. For the datasets with missing values, is there any evidence that the performance is different on the instances with missing values, compared to the instances where all of the values are present? Does it matter which, or how many values are missing? Would a imputation strategy have any effect on this?\n",
    "\n",
    "Don't forget that groups of 1 student should respond to question (1), and one other question of your choosing. Groups of 2 students should respond to question (1) and question (2), and two other questions of your choosing. Your responses should be about 150-250 words each."
   ]
  },
  {
   "cell_type": "code",
   "execution_count": null,
   "metadata": {},
   "outputs": [],
   "source": [
    "1. Information gain and its coorelation to accuracy:\n",
    "    "
   ]
  },
  {
   "cell_type": "code",
   "execution_count": null,
   "metadata": {},
   "outputs": [],
   "source": [
    "4.a\n",
    "Holdout validation:\n",
    "    \n",
    "4.b\n",
    "Cross Validation:\n",
    "    "
   ]
  },
  {
   "cell_type": "code",
   "execution_count": null,
   "metadata": {},
   "outputs": [],
   "source": [
    "5. Add-k smoothing:\n",
    "    "
   ]
  },
  {
   "cell_type": "code",
   "execution_count": null,
   "metadata": {},
   "outputs": [],
   "source": [
    "6. Missing values and its impact on performace:\n",
    "    "
   ]
  }
 ],
 "metadata": {
  "kernelspec": {
   "display_name": "Python 3",
   "language": "python",
   "name": "python3"
  },
  "language_info": {
   "codemirror_mode": {
    "name": "ipython",
    "version": 3
   },
   "file_extension": ".py",
   "mimetype": "text/x-python",
   "name": "python",
   "nbconvert_exporter": "python",
   "pygments_lexer": "ipython3",
   "version": "3.6.4"
  }
 },
 "nbformat": 4,
 "nbformat_minor": 2
}
